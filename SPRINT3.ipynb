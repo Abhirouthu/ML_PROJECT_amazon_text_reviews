{
 "cells": [
  {
   "cell_type": "code",
   "execution_count": 1,
   "id": "29ffa731",
   "metadata": {},
   "outputs": [],
   "source": [
    "import numpy as np\n",
    "import pandas as pd\n",
    "import matplotlib.pyplot as plt\n",
    "import seaborn as sns\n",
    "import re\n",
    "import nltk\n",
    "from nltk.tokenize import word_tokenize\n",
    "from nltk.corpus import stopwords\n",
    "from nltk.stem.porter import PorterStemmer\n",
    "from nltk.stem import WordNetLemmatizer\n",
    "from wordcloud import WordCloud\n",
    "import warnings\n",
    "warnings.filterwarnings(\"ignore\")\n"
   ]
  },
  {
   "cell_type": "markdown",
   "id": "980ea096",
   "metadata": {},
   "source": [
    "# Loading the data"
   ]
  },
  {
   "cell_type": "code",
   "execution_count": 2,
   "id": "830b0042",
   "metadata": {},
   "outputs": [],
   "source": [
    "df = pd.read_csv('amazon_food_reviw.csv')"
   ]
  },
  {
   "cell_type": "code",
   "execution_count": 3,
   "id": "da261c7b",
   "metadata": {},
   "outputs": [],
   "source": [
    "df['ReviewText']=df['ReviewText'].apply(lambda x: re.sub('<.*?>','',x))"
   ]
  },
  {
   "cell_type": "code",
   "execution_count": 4,
   "id": "8a145622",
   "metadata": {},
   "outputs": [],
   "source": [
    "df=df[df.Score!=3]"
   ]
  },
  {
   "cell_type": "code",
   "execution_count": 5,
   "id": "3cb29ad5",
   "metadata": {},
   "outputs": [],
   "source": [
    "df.loc[df['Score']<3, 'Score'] = 0\n",
    "df.loc[df['Score']>3, 'Score'] = 1\n"
   ]
  },
  {
   "cell_type": "code",
   "execution_count": 6,
   "id": "41c1d4d0",
   "metadata": {},
   "outputs": [
    {
     "data": {
      "text/plain": [
       "1    443777\n",
       "0     82037\n",
       "Name: Score, dtype: int64"
      ]
     },
     "execution_count": 6,
     "metadata": {},
     "output_type": "execute_result"
    }
   ],
   "source": [
    "df.Score.value_counts()"
   ]
  },
  {
   "cell_type": "code",
   "execution_count": 7,
   "id": "5239d797",
   "metadata": {},
   "outputs": [],
   "source": [
    "X=df[['ReviewText']]\n",
    "y=df['Score']"
   ]
  },
  {
   "cell_type": "code",
   "execution_count": 8,
   "id": "ac0c4165",
   "metadata": {},
   "outputs": [
    {
     "data": {
      "text/html": [
       "<div>\n",
       "<style scoped>\n",
       "    .dataframe tbody tr th:only-of-type {\n",
       "        vertical-align: middle;\n",
       "    }\n",
       "\n",
       "    .dataframe tbody tr th {\n",
       "        vertical-align: top;\n",
       "    }\n",
       "\n",
       "    .dataframe thead th {\n",
       "        text-align: right;\n",
       "    }\n",
       "</style>\n",
       "<table border=\"1\" class=\"dataframe\">\n",
       "  <thead>\n",
       "    <tr style=\"text-align: right;\">\n",
       "      <th></th>\n",
       "      <th>ReviewText</th>\n",
       "    </tr>\n",
       "  </thead>\n",
       "  <tbody>\n",
       "    <tr>\n",
       "      <th>0</th>\n",
       "      <td>I have bought several of the Vitality canned d...</td>\n",
       "    </tr>\n",
       "    <tr>\n",
       "      <th>1</th>\n",
       "      <td>Product arrived labeled as Jumbo Salted Peanut...</td>\n",
       "    </tr>\n",
       "    <tr>\n",
       "      <th>2</th>\n",
       "      <td>This is a confection that has been around a fe...</td>\n",
       "    </tr>\n",
       "    <tr>\n",
       "      <th>3</th>\n",
       "      <td>If you are looking for the secret ingredient i...</td>\n",
       "    </tr>\n",
       "    <tr>\n",
       "      <th>4</th>\n",
       "      <td>Great taffy at a great price.  There was a wid...</td>\n",
       "    </tr>\n",
       "    <tr>\n",
       "      <th>...</th>\n",
       "      <td>...</td>\n",
       "    </tr>\n",
       "    <tr>\n",
       "      <th>568449</th>\n",
       "      <td>Great for sesame chicken..this is a good if no...</td>\n",
       "    </tr>\n",
       "    <tr>\n",
       "      <th>568450</th>\n",
       "      <td>I'm disappointed with the flavor. The chocolat...</td>\n",
       "    </tr>\n",
       "    <tr>\n",
       "      <th>568451</th>\n",
       "      <td>These stars are small, so you can give 10-15 o...</td>\n",
       "    </tr>\n",
       "    <tr>\n",
       "      <th>568452</th>\n",
       "      <td>These are the BEST treats for training and rew...</td>\n",
       "    </tr>\n",
       "    <tr>\n",
       "      <th>568453</th>\n",
       "      <td>I am very satisfied ,product is as advertised,...</td>\n",
       "    </tr>\n",
       "  </tbody>\n",
       "</table>\n",
       "<p>525814 rows × 1 columns</p>\n",
       "</div>"
      ],
      "text/plain": [
       "                                               ReviewText\n",
       "0       I have bought several of the Vitality canned d...\n",
       "1       Product arrived labeled as Jumbo Salted Peanut...\n",
       "2       This is a confection that has been around a fe...\n",
       "3       If you are looking for the secret ingredient i...\n",
       "4       Great taffy at a great price.  There was a wid...\n",
       "...                                                   ...\n",
       "568449  Great for sesame chicken..this is a good if no...\n",
       "568450  I'm disappointed with the flavor. The chocolat...\n",
       "568451  These stars are small, so you can give 10-15 o...\n",
       "568452  These are the BEST treats for training and rew...\n",
       "568453  I am very satisfied ,product is as advertised,...\n",
       "\n",
       "[525814 rows x 1 columns]"
      ]
     },
     "execution_count": 8,
     "metadata": {},
     "output_type": "execute_result"
    }
   ],
   "source": [
    "X"
   ]
  },
  {
   "cell_type": "markdown",
   "id": "a039a06d",
   "metadata": {},
   "source": [
    "# Data preprocessing"
   ]
  },
  {
   "cell_type": "code",
   "execution_count": 9,
   "id": "069382fe",
   "metadata": {},
   "outputs": [],
   "source": [
    "stemmer = PorterStemmer()\n",
    "\n",
    "lemmatizer = WordNetLemmatizer()\n"
   ]
  },
  {
   "cell_type": "code",
   "execution_count": 10,
   "id": "f6efdfcc",
   "metadata": {},
   "outputs": [],
   "source": [
    "stop_words = stopwords.words('english')"
   ]
  },
  {
   "cell_type": "code",
   "execution_count": 11,
   "id": "fed61b99",
   "metadata": {},
   "outputs": [],
   "source": [
    "def preprocess(raw_text):\n",
    "    text = str(raw_text).lower()\n",
    "    tokens = word_tokenize(text)\n",
    "   \n",
    "    tokens = [word for word in tokens if word not in stop_words]\n",
    "    clean_tokens = [lemmatizer.lemmatize(word) for word in tokens]\n",
    "    words_corpus = ' '.join(tokens)\n",
    "    \n",
    "    return words_corpus"
   ]
  },
  {
   "cell_type": "code",
   "execution_count": 12,
   "id": "2f73e992",
   "metadata": {},
   "outputs": [],
   "source": [
    "from tqdm import tqdm, tqdm_notebook\n",
    "tqdm.pandas()\n"
   ]
  },
  {
   "cell_type": "code",
   "execution_count": 13,
   "id": "f64a4427",
   "metadata": {},
   "outputs": [
    {
     "name": "stderr",
     "output_type": "stream",
     "text": [
      "100%|█████████████████████████████████████████████████████████████████████████| 525814/525814 [08:59<00:00, 975.11it/s]\n"
     ]
    }
   ],
   "source": [
    "temp_df = X['ReviewText'].progress_apply(lambda x: preprocess(x))\n"
   ]
  },
  {
   "cell_type": "code",
   "execution_count": 14,
   "id": "a28eaed7",
   "metadata": {},
   "outputs": [],
   "source": [
    "X=pd.DataFrame(temp_df)"
   ]
  },
  {
   "cell_type": "markdown",
   "id": "07e7ba63",
   "metadata": {},
   "source": [
    "# splitting the data"
   ]
  },
  {
   "cell_type": "code",
   "execution_count": 15,
   "id": "fe61bb7b",
   "metadata": {},
   "outputs": [],
   "source": [
    "from sklearn.model_selection import train_test_split\n",
    "\n",
    "X_train, X_test, y_train, y_test = train_test_split(X, y, test_size=0.2, random_state=100)"
   ]
  },
  {
   "cell_type": "code",
   "execution_count": 16,
   "id": "3b50d220",
   "metadata": {},
   "outputs": [
    {
     "data": {
      "text/plain": [
       "((420651, 1), (105163, 1), (420651,), (105163,))"
      ]
     },
     "execution_count": 16,
     "metadata": {},
     "output_type": "execute_result"
    }
   ],
   "source": [
    "X_train.shape,X_test.shape, y_train.shape, y_test.shape"
   ]
  },
  {
   "cell_type": "markdown",
   "id": "d31b66b0",
   "metadata": {},
   "source": [
    "# Converting Text to Numerical vectors - BOW Representation"
   ]
  },
  {
   "cell_type": "code",
   "execution_count": 17,
   "id": "70411d92",
   "metadata": {},
   "outputs": [],
   "source": [
    "from sklearn.feature_extraction.text import CountVectorizer\n",
    "\n",
    "vocab = CountVectorizer()\n",
    "vocab.fit(X_train['ReviewText'])\n",
    "\n",
    "X_train_bow = vocab.transform(X_train['ReviewText'])"
   ]
  },
  {
   "cell_type": "code",
   "execution_count": 18,
   "id": "f8b55fc2",
   "metadata": {},
   "outputs": [
    {
     "name": "stdout",
     "output_type": "stream",
     "text": [
      "Total unique words: 116101\n",
      "Type of train features: <class 'scipy.sparse.csr.csr_matrix'>\n",
      "Shape of input data: (420651, 116101)\n"
     ]
    }
   ],
   "source": [
    "print(\"Total unique words:\", len(vocab.vocabulary_))\n",
    "\n",
    "print(\"Type of train features:\", type(X_train_bow))\n",
    "\n",
    "print(\"Shape of input data:\", X_train_bow.shape)"
   ]
  },
  {
   "cell_type": "code",
   "execution_count": 19,
   "id": "bbe631e1",
   "metadata": {},
   "outputs": [],
   "source": [
    "X_test_bow = vocab.transform(X_test['ReviewText'])"
   ]
  },
  {
   "cell_type": "markdown",
   "id": "a10d81ec",
   "metadata": {},
   "source": [
    "# Logistic Rgression"
   ]
  },
  {
   "cell_type": "code",
   "execution_count": 20,
   "id": "18c5cf85",
   "metadata": {},
   "outputs": [
    {
     "data": {
      "text/plain": [
       "LogisticRegression()"
      ]
     },
     "execution_count": 20,
     "metadata": {},
     "output_type": "execute_result"
    }
   ],
   "source": [
    "from sklearn.linear_model import LogisticRegression\n",
    "classifier = LogisticRegression()\n",
    "classifier.fit(X_train_bow, y_train)"
   ]
  },
  {
   "cell_type": "code",
   "execution_count": 21,
   "id": "f0ef9713",
   "metadata": {},
   "outputs": [],
   "source": [
    "y_test_pred = classifier.predict(X_test_bow)"
   ]
  },
  {
   "cell_type": "code",
   "execution_count": 22,
   "id": "e8bb549a",
   "metadata": {},
   "outputs": [
    {
     "name": "stdout",
     "output_type": "stream",
     "text": [
      "0.9387332046442189\n",
      "              precision    recall  f1-score   support\n",
      "\n",
      "           0       0.84      0.74      0.79     16409\n",
      "           1       0.95      0.97      0.96     88754\n",
      "\n",
      "    accuracy                           0.94    105163\n",
      "   macro avg       0.90      0.86      0.88    105163\n",
      "weighted avg       0.94      0.94      0.94    105163\n",
      "\n"
     ]
    }
   ],
   "source": [
    "y_test_pred = classifier.predict(X_test_bow)\n",
    "from sklearn.metrics import accuracy_score, classification_report\n",
    "\n",
    "print(accuracy_score(y_test, y_test_pred))\n",
    "\n",
    "print(classification_report(y_test, y_test_pred))"
   ]
  },
  {
   "cell_type": "markdown",
   "id": "fcae66a1",
   "metadata": {},
   "source": [
    "# Multinomial Naive Bayes"
   ]
  },
  {
   "cell_type": "code",
   "execution_count": 32,
   "id": "d40b8a32",
   "metadata": {},
   "outputs": [],
   "source": [
    "from sklearn.naive_bayes import MultinomialNB\n"
   ]
  },
  {
   "cell_type": "code",
   "execution_count": 33,
   "id": "d2933a43",
   "metadata": {},
   "outputs": [],
   "source": [
    "nb = MultinomialNB()"
   ]
  },
  {
   "cell_type": "code",
   "execution_count": 34,
   "id": "beede987",
   "metadata": {},
   "outputs": [
    {
     "data": {
      "text/plain": [
       "MultinomialNB()"
      ]
     },
     "execution_count": 34,
     "metadata": {},
     "output_type": "execute_result"
    }
   ],
   "source": [
    "nb.fit(X_train_bow, y_train)"
   ]
  },
  {
   "cell_type": "code",
   "execution_count": 35,
   "id": "e471c36e",
   "metadata": {},
   "outputs": [],
   "source": [
    "y_test_pred = nb.predict(X_test_bow)"
   ]
  },
  {
   "cell_type": "code",
   "execution_count": 36,
   "id": "8cb8daf0",
   "metadata": {},
   "outputs": [
    {
     "data": {
      "text/plain": [
       "0.9125072506489925"
      ]
     },
     "execution_count": 36,
     "metadata": {},
     "output_type": "execute_result"
    }
   ],
   "source": [
    "from sklearn import metrics\n",
    "metrics.accuracy_score(y_test, y_test_pred)\n"
   ]
  },
  {
   "cell_type": "markdown",
   "id": "9e67baf8",
   "metadata": {},
   "source": [
    "# Support Vector Machines: Linear SVC"
   ]
  },
  {
   "cell_type": "code",
   "execution_count": 28,
   "id": "1d7709cb",
   "metadata": {},
   "outputs": [],
   "source": [
    "from sklearn import svm\n",
    "svc = svm.LinearSVC()"
   ]
  },
  {
   "cell_type": "code",
   "execution_count": 29,
   "id": "5e1bd8de",
   "metadata": {},
   "outputs": [
    {
     "data": {
      "text/plain": [
       "LinearSVC()"
      ]
     },
     "execution_count": 29,
     "metadata": {},
     "output_type": "execute_result"
    }
   ],
   "source": [
    "svc.fit(X_train_bow, y_train)"
   ]
  },
  {
   "cell_type": "code",
   "execution_count": 30,
   "id": "bf411430",
   "metadata": {},
   "outputs": [],
   "source": [
    "y_test_pred = svc.predict(X_test_bow)"
   ]
  },
  {
   "cell_type": "code",
   "execution_count": 31,
   "id": "de890557",
   "metadata": {},
   "outputs": [
    {
     "data": {
      "text/plain": [
       "0.9385715508306153"
      ]
     },
     "execution_count": 31,
     "metadata": {},
     "output_type": "execute_result"
    }
   ],
   "source": [
    "from sklearn import metrics\n",
    "metrics.accuracy_score(y_test, y_test_pred)\n"
   ]
  },
  {
   "cell_type": "code",
   "execution_count": 1,
   "id": "0d777848",
   "metadata": {},
   "outputs": [],
   "source": [
    "# considering linear svc with 0.93 accuracy"
   ]
  },
  {
   "cell_type": "code",
   "execution_count": null,
   "id": "719db578",
   "metadata": {},
   "outputs": [],
   "source": []
  }
 ],
 "metadata": {
  "kernelspec": {
   "display_name": "Python 3 (ipykernel)",
   "language": "python",
   "name": "python3"
  },
  "language_info": {
   "codemirror_mode": {
    "name": "ipython",
    "version": 3
   },
   "file_extension": ".py",
   "mimetype": "text/x-python",
   "name": "python",
   "nbconvert_exporter": "python",
   "pygments_lexer": "ipython3",
   "version": "3.9.7"
  }
 },
 "nbformat": 4,
 "nbformat_minor": 5
}
